{
 "cells": [
  {
   "cell_type": "code",
   "execution_count": null,
   "metadata": {},
   "outputs": [],
   "source": [
    "import torch\n",
    "import torch.nn as nn\n",
    "import joblib\n",
    "import numpy as np\n",
    "from sklearn.svm import SVC\n",
    "from sklearn.metrics import accuracy_score\n",
    "from torchvision import datasets, transforms\n",
    "from torch.utils.data import DataLoader\n",
    "from facenet_pytorch import InceptionResnetV1\n",
    "from torchvision import transforms\n",
    "from PIL import Image\n",
    "from torch.utils.data import DataLoader\n",
    "from torchvision.datasets import ImageFolder\n",
    "import cv2"
   ]
  },
  {
   "cell_type": "code",
   "execution_count": null,
   "metadata": {},
   "outputs": [],
   "source": [
    "# Initialize device\n",
    "device = torch.device('cuda' if torch.cuda.is_available() else 'cpu')"
   ]
  },
  {
   "cell_type": "code",
   "execution_count": null,
   "metadata": {},
   "outputs": [],
   "source": [
    "# Preprocessing transformation for FaceNet\n",
    "transform = transforms.Compose([\n",
    "    transforms.Resize((160, 160)),  # Resize images to FaceNet's expected input size\n",
    "    transforms.ToTensor(),         # Convert images to PyTorch tensors\n",
    "    transforms.Normalize([0.5, 0.5, 0.5], [0.5, 0.5, 0.5])  # Normalize images\n",
    "])"
   ]
  },
  {
   "cell_type": "code",
   "execution_count": null,
   "metadata": {},
   "outputs": [],
   "source": [
    "# Load training and test datasets\n",
    "train_dataset = datasets.ImageFolder('/content/Dataset/Dataset/Dataset_cropped/train', transform=transform)\n",
    "train_loader = DataLoader(train_dataset, batch_size=32, shuffle=True)\n",
    "\n",
    "test_dataset = datasets.ImageFolder('/content/Dataset/Dataset/Dataset_cropped/test', transform=transform)\n",
    "test_loader = DataLoader(test_dataset, batch_size=32, shuffle=False)"
   ]
  },
  {
   "cell_type": "code",
   "execution_count": null,
   "metadata": {},
   "outputs": [],
   "source": [
    "# Class names\n",
    "class_names = train_dataset.classes\n",
    "print(f\"Classes: {class_names}\")\n",
    "\n",
    "# Load pre-trained FaceNet model\n",
    "facenet_model = InceptionResnetV1(pretrained='vggface2').eval().to(device)"
   ]
  },
  {
   "cell_type": "code",
   "execution_count": null,
   "metadata": {},
   "outputs": [],
   "source": [
    "# Function to extract embeddings\n",
    "def get_embeddings(data_loader, model):\n",
    "    embeddings = []\n",
    "    labels = []\n",
    "\n",
    "    with torch.no_grad():\n",
    "        for imgs, lbls in data_loader:\n",
    "            imgs = imgs.to(device)\n",
    "            emb = model(imgs).cpu().numpy()\n",
    "            embeddings.append(emb)\n",
    "            labels.append(lbls.numpy())\n",
    "\n",
    "    return np.vstack(embeddings), np.hstack(labels)"
   ]
  },
  {
   "cell_type": "code",
   "execution_count": null,
   "metadata": {},
   "outputs": [],
   "source": [
    "# Extract embeddings for training and test sets\n",
    "train_embeddings, train_labels = get_embeddings(train_loader, facenet_model)\n",
    "test_embeddings, test_labels = get_embeddings(test_loader, facenet_model)\n",
    "\n",
    "print(\"Train embeddings shape:\", train_embeddings.shape)\n",
    "print(\"Test embeddings shape:\", test_embeddings.shape)"
   ]
  },
  {
   "cell_type": "code",
   "execution_count": null,
   "metadata": {},
   "outputs": [],
   "source": [
    "# Save embeddings and labels\n",
    "np.save('train_embeddings.npy', train_embeddings)\n",
    "np.save('train_labels.npy', train_labels)\n",
    "np.save('test_embeddings.npy', test_embeddings)\n",
    "np.save('test_labels.npy', test_labels)"
   ]
  },
  {
   "cell_type": "code",
   "execution_count": null,
   "metadata": {},
   "outputs": [],
   "source": [
    "# Train the SVM on the FaceNet embeddings\n",
    "svm_model = SVC(kernel='linear', probability=True)\n",
    "svm_model.fit(train_embeddings, train_labels)"
   ]
  },
  {
   "cell_type": "code",
   "execution_count": null,
   "metadata": {},
   "outputs": [],
   "source": [
    "# Save the trained SVM model\n",
    "joblib.dump(svm_model, 'svm_model.pkl')"
   ]
  },
  {
   "cell_type": "code",
   "execution_count": null,
   "metadata": {},
   "outputs": [],
   "source": [
    "# Evaluate on the test set\n",
    "predictions = svm_model.predict(test_embeddings)\n",
    "accuracy = accuracy_score(test_labels, predictions)\n",
    "print(f\"Test Accuracy: {accuracy * 100:.2f}%\")"
   ]
  },
  {
   "cell_type": "code",
   "execution_count": null,
   "metadata": {},
   "outputs": [],
   "source": [
    "# Define a simple classifier\n",
    "class FaceClassifier(nn.Module):\n",
    "    def __init__(self, embedding_dim, num_classes):\n",
    "        super(FaceClassifier, self).__init__()\n",
    "        self.fc = nn.Linear(embedding_dim, num_classes)\n",
    "\n",
    "    def forward(self, x):\n",
    "        return self.fc(x)"
   ]
  },
  {
   "cell_type": "code",
   "execution_count": null,
   "metadata": {},
   "outputs": [],
   "source": [
    "# Create model and train\n",
    "num_classes = len(class_names)\n",
    "classifier_model = FaceClassifier(embedding_dim=512, num_classes=num_classes).to(device)"
   ]
  },
  {
   "cell_type": "code",
   "execution_count": null,
   "metadata": {},
   "outputs": [],
   "source": [
    "# Loss and optimizer\n",
    "criterion = nn.CrossEntropyLoss()\n",
    "optimizer = torch.optim.Adam(classifier_model.parameters(), lr=0.001)"
   ]
  },
  {
   "cell_type": "code",
   "execution_count": null,
   "metadata": {},
   "outputs": [],
   "source": [
    "# Training loop\n",
    "for epoch in range(10):\n",
    "    classifier_model.train()\n",
    "    for embeddings, labels in zip(train_embeddings, train_labels):\n",
    "        embeddings = torch.tensor(embeddings, dtype=torch.float32).to(device)\n",
    "        labels = torch.tensor(labels, dtype=torch.long).to(device)\n",
    "\n",
    "        outputs = classifier_model(embeddings)\n",
    "        loss = criterion(outputs, labels)\n",
    "\n",
    "        optimizer.zero_grad()\n",
    "        loss.backward()\n",
    "        optimizer.step()\n",
    "\n",
    "print(\"Training completed!\")"
   ]
  },
  {
   "cell_type": "code",
   "execution_count": null,
   "metadata": {},
   "outputs": [],
   "source": [
    "# Load the saved SVM model\n",
    "svm_model = joblib.load('svm_model.pkl')"
   ]
  },
  {
   "cell_type": "code",
   "execution_count": null,
   "metadata": {},
   "outputs": [],
   "source": [
    "# Function for face recognition using webcam feed\n",
    "def recognize_face(image, facenet_model, classifier_model, class_names):\n",
    "    # Detect face, preprocess, and get embedding\n",
    "    embedding = facenet_model(image.unsqueeze(0).to(device)).cpu().detach().numpy()\n",
    "\n",
    "    # Predict using the classifier\n",
    "    prediction = classifier_model(torch.tensor(embedding, dtype=torch.float32).to(device))\n",
    "    _, predicted_class = torch.max(prediction, dim=1)\n",
    "    return class_names[predicted_class.item()]"
   ]
  },
  {
   "cell_type": "code",
   "execution_count": null,
   "metadata": {},
   "outputs": [],
   "source": [
    "# Function to run face recognition on webcam feed\n",
    "def run_face_recognition():\n",
    "    cap = cv2.VideoCapture(0)\n",
    "\n",
    "    while True:\n",
    "        ret, frame = cap.read()\n",
    "\n",
    "        if not ret:\n",
    "            break\n",
    "\n",
    "        # Convert frame to PIL image\n",
    "        pil_image = Image.fromarray(cv2.cvtColor(frame, cv2.COLOR_BGR2RGB))\n",
    "\n",
    "        # Preprocess image\n",
    "        image = preprocess(pil_image).unsqueeze(0).to(device)\n",
    "\n",
    "        # Get face embeddings\n",
    "        with torch.no_grad():\n",
    "            embedding = facenet_model(image)\n",
    "\n",
    "        # Recognize face using the trained classifier\n",
    "        predicted_class_name = recognize_face(embedding, facenet_model, classifier_model, class_names)\n",
    "        print(f\"Predicted Class: {predicted_class_name}\")\n",
    "\n",
    "        # Draw bounding box around the face (simple for demonstration)\n",
    "        # (In real-world applications, you'd want to use a face detection model like MTCNN)\n",
    "        cv2.putText(frame, f'Face: {predicted_class_name}', (50, 50), cv2.FONT_HERSHEY_SIMPLEX, 1, (0, 255, 0), 2)\n",
    "\n",
    "        # Display the resulting frame\n",
    "        cv2.imshow('Face Recognition', frame)\n",
    "\n",
    "        if cv2.waitKey(1) & 0xFF == ord('q'):\n",
    "            break\n",
    "\n",
    "    cap.release()\n",
    "    cv2.destroyAllWindows()\n"
   ]
  },
  {
   "cell_type": "code",
   "execution_count": null,
   "metadata": {},
   "outputs": [],
   "source": [
    "# Run face recognition on webcam\n",
    "run_face_recognition()"
   ]
  },
  {
   "cell_type": "code",
   "execution_count": null,
   "metadata": {},
   "outputs": [],
   "source": [
    "# Save the models\n",
    "torch.save(facenet_model.state_dict(), 'facenet_model.pth')\n",
    "torch.save(classifier_model.state_dict(), 'classifier_model.pth')"
   ]
  },
  {
   "cell_type": "code",
   "execution_count": null,
   "metadata": {},
   "outputs": [],
   "source": [
    "# Save class names\n",
    "with open('class_names.json', 'w') as f:\n",
    "    json.dump(class_names, f)"
   ]
  }
 ],
 "metadata": {
  "language_info": {
   "name": "python"
  }
 },
 "nbformat": 4,
 "nbformat_minor": 2
}
